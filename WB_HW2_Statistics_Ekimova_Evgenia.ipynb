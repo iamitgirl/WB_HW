{
  "nbformat": 4,
  "nbformat_minor": 0,
  "metadata": {
    "colab": {
      "provenance": []
    },
    "kernelspec": {
      "name": "python3",
      "display_name": "Python 3"
    },
    "language_info": {
      "name": "python"
    }
  },
  "cells": [
    {
      "cell_type": "markdown",
      "source": [
        "**Задача 1**"
      ],
      "metadata": {
        "id": "Juj1cCSUPexE"
      }
    },
    {
      "cell_type": "markdown",
      "source": [
        "Из партии батареек с номинальным напряжением 12 В наугад выбрано семь штук. Согласно показаниям высокоточного вольтметра, фактически выдаваемое ими напряжение составило: 12,9; 11,6; 13,5; 13,9; 12,1; 11,9; 13,0 В соответственно. Можно ли считать, что среднее напряжение действительно равно 12 В?"
      ],
      "metadata": {
        "id": "YE9pVUfxPxM8"
      }
    },
    {
      "cell_type": "code",
      "source": [
        "import numpy as np\n",
        "from scipy import stats"
      ],
      "metadata": {
        "id": "5wmeqUjaPrqR"
      },
      "execution_count": 1,
      "outputs": []
    },
    {
      "cell_type": "markdown",
      "source": [
        "Гипотезы:\n",
        "\n",
        "H0: μ = 12\n",
        "\n",
        "H1: μ ≠ 12"
      ],
      "metadata": {
        "id": "uk5zxm4URrQL"
      }
    },
    {
      "cell_type": "code",
      "source": [
        "sample = np.array([12.9, 11.6, 13.5, 13.9, 12.1, 11.9, 13])"
      ],
      "metadata": {
        "id": "OHS70eunP8W0"
      },
      "execution_count": 2,
      "outputs": []
    },
    {
      "cell_type": "markdown",
      "source": [
        "Проверим данные на нормальность с помощью критерия Шапиро-Уилка"
      ],
      "metadata": {
        "id": "EkdfCTp4TTcP"
      }
    },
    {
      "cell_type": "code",
      "source": [
        "stats.shapiro(sample)"
      ],
      "metadata": {
        "colab": {
          "base_uri": "https://localhost:8080/"
        },
        "id": "b6uMtWaqS_2L",
        "outputId": "742b7926-a6ac-41ae-8869-6f2ecac48e54"
      },
      "execution_count": 3,
      "outputs": [
        {
          "output_type": "execute_result",
          "data": {
            "text/plain": [
              "ShapiroResult(statistic=0.9461528332649155, pvalue=0.694601251101445)"
            ]
          },
          "metadata": {},
          "execution_count": 3
        }
      ]
    },
    {
      "cell_type": "markdown",
      "source": [
        "H0 о нормальности не отвергается\n",
        "\n",
        "Используем Одновыборочный критерий Стьюдента"
      ],
      "metadata": {
        "id": "f-XcurSqTc8z"
      }
    },
    {
      "cell_type": "code",
      "source": [
        "mu0 = 12"
      ],
      "metadata": {
        "id": "1LzzDptwQDD_"
      },
      "execution_count": 4,
      "outputs": []
    },
    {
      "cell_type": "code",
      "source": [
        "df = len(sample)-1\n",
        "student = stats.t(df)\n",
        "T = (df)**0.5*(sample.mean() - mu0)/sample.std()\n",
        "P = (1 - student.cdf(T))*2\n",
        "print(\"Statistic: \",T,\", p-value: \",P)"
      ],
      "metadata": {
        "colab": {
          "base_uri": "https://localhost:8080/"
        },
        "id": "kFX6Ias9QDHy",
        "outputId": "c1aea026-0d9f-4a56-ae65-413ec74a9f6c"
      },
      "execution_count": 5,
      "outputs": [
        {
          "output_type": "stream",
          "name": "stdout",
          "text": [
            "Statistic:  2.1578017974978794 , p-value:  0.07430190210562304\n"
          ]
        }
      ]
    },
    {
      "cell_type": "markdown",
      "source": [
        "p-value = 0.074 > 0.05. H0 не отвергается. Значит, мы можем считать, что среднее напряжение равно 12."
      ],
      "metadata": {
        "id": "vCIRazKKRLff"
      }
    },
    {
      "cell_type": "markdown",
      "source": [
        "**Задача 2**"
      ],
      "metadata": {
        "id": "cErBdm32TtR4"
      }
    },
    {
      "cell_type": "markdown",
      "source": [
        "Есть два различных метода определения процентного содержания жира в мясе. Доля жира для 10 образцов мяса была определена каждым из двух методов. Позволяют ли полученные результаты сделать вывод о том, что один метод даёт в среднем более высокие показания, чем другой?\n",
        "\n",
        "Образец\n",
        "\n",
        "1    2    3    4    5    6    7   8    9    10\n",
        "\n",
        "Метод I\n",
        "\n",
        "23,1 23,2 26,5 26,6 27,1 48,3 40,5 25,0 38,4 23,5\n",
        "\n",
        "Метод II\n",
        "\n",
        "22,7 23,6 27,1 27,4 27,4 46,8 40,4 24,9 38,1 23,8"
      ],
      "metadata": {
        "id": "Cvir7TIET3WE"
      }
    },
    {
      "cell_type": "markdown",
      "source": [
        "Гипотезы:\n",
        "\n",
        "H0: μ1 = μ2 (методы дают одинаковые показатели)\n",
        "\n",
        "H1: μ1 > μ2 (первый метод дает более высокие показатели, чем 2)"
      ],
      "metadata": {
        "id": "ShT2pU_eUqUw"
      }
    },
    {
      "cell_type": "code",
      "source": [
        "sample1 = np.array([23.1, 23.2, 26.5, 26.6, 27.1, 48.3, 40.5, 25, 38.4, 23.5])\n",
        "sample2 = np.array([22.7, 23.6, 27.1, 27.4, 27.4, 46.8, 40.4, 24.9, 38.1, 23.8])"
      ],
      "metadata": {
        "id": "oBsnpaDOQDOX"
      },
      "execution_count": 6,
      "outputs": []
    },
    {
      "cell_type": "markdown",
      "source": [
        "Проверим данные на нормальность с помощью критерия Шапиро-Уилка. Так как выборка по сути у нас 1, а не 2 независимых, то мы проверяем нормальность (sample1-sample2) значений."
      ],
      "metadata": {
        "id": "qiE-O289Xf5w"
      }
    },
    {
      "cell_type": "code",
      "source": [
        "stats.shapiro(sample1-sample2)"
      ],
      "metadata": {
        "colab": {
          "base_uri": "https://localhost:8080/"
        },
        "id": "1KDz67EEXlhW",
        "outputId": "50be7ce1-86c1-4052-b29e-9e69c1928dbd"
      },
      "execution_count": 7,
      "outputs": [
        {
          "output_type": "execute_result",
          "data": {
            "text/plain": [
              "ShapiroResult(statistic=0.8998483579792755, pvalue=0.21825780478589868)"
            ]
          },
          "metadata": {},
          "execution_count": 7
        }
      ]
    },
    {
      "cell_type": "markdown",
      "source": [
        "H0 о нормальности не отвергается"
      ],
      "metadata": {
        "id": "aOkPjQ_8_JTD"
      }
    },
    {
      "cell_type": "markdown",
      "source": [
        "Используем Двухвыборочный критерий Стьюдента для парных выборок"
      ],
      "metadata": {
        "id": "xZCo4BPs9c-t"
      }
    },
    {
      "cell_type": "code",
      "source": [
        "d = sample1 - sample2\n",
        "df = len(d)-1\n",
        "t = stats.t(df)\n",
        "T = (df)**0.5*(d.mean())/d.std()\n",
        "P = 1 - t.cdf(T)\n",
        "print(\"Statistic: \",T,\", p-value: \",P)"
      ],
      "metadata": {
        "colab": {
          "base_uri": "https://localhost:8080/"
        },
        "id": "Pxl66_ufaSQV",
        "outputId": "116741e9-f06e-4606-d3b3-deaaa2c315d9"
      },
      "execution_count": 8,
      "outputs": [
        {
          "output_type": "stream",
          "name": "stdout",
          "text": [
            "Statistic:  1.715488497867803e-15 , p-value:  0.49999999999999933\n"
          ]
        }
      ]
    },
    {
      "cell_type": "markdown",
      "source": [
        "p-value = 0.499(9) > 0.05. H0 не отвергается. Мы не можем сказаь, что 1 метод дает более высокие показатели."
      ],
      "metadata": {
        "id": "4mD_DLFE6Fyd"
      }
    },
    {
      "cell_type": "markdown",
      "source": [
        "**Задача 3**"
      ],
      "metadata": {
        "id": "KTBFutvhdNpt"
      }
    },
    {
      "cell_type": "markdown",
      "source": [
        "Для проверки гипотезы о том, что жители городов имеют в среднем более высокое систолическое артериальное давление, чем жители сельской местности, было проведено обследование 10 горожан и 9 жителей села примерно одного возраста. Получены следующие данные об уровне давления для горожан: 132, 111, 119, 138, 200, 131, 138, 170, 159, 140; для селян: 115, 190, 127, 155, 148, 121, 116, 121, 197. Можно ли считать верной выдвинутую гипотезу на уровне значимости 0,05?"
      ],
      "metadata": {
        "id": "UFeFOL2gdSXR"
      }
    },
    {
      "cell_type": "markdown",
      "source": [
        "Гипотезы:\n",
        "\n",
        "H0: μ1 = μ2\n",
        "\n",
        "H1: μ1 > μ2"
      ],
      "metadata": {
        "id": "_-xKfiNFdbVe"
      }
    },
    {
      "cell_type": "code",
      "source": [
        "x = np.array([132, 111, 119, 138, 200, 131, 138, 170, 159, 140])\n",
        "y = np.array([115, 190, 127, 155, 148, 121, 116, 121, 197])"
      ],
      "metadata": {
        "id": "4z78RKv_dXO-"
      },
      "execution_count": 9,
      "outputs": []
    },
    {
      "cell_type": "markdown",
      "source": [
        "Проверим данные на нормальность с помощью критерия Шапиро-Уилка\n"
      ],
      "metadata": {
        "id": "QXr2IHB3eHQ2"
      }
    },
    {
      "cell_type": "code",
      "source": [
        "stats.shapiro(x)"
      ],
      "metadata": {
        "colab": {
          "base_uri": "https://localhost:8080/"
        },
        "id": "BES9nMEKdXa9",
        "outputId": "bc169853-93b5-4f79-8c88-7942414de2bf"
      },
      "execution_count": 10,
      "outputs": [
        {
          "output_type": "execute_result",
          "data": {
            "text/plain": [
              "ShapiroResult(statistic=0.9100654196723891, pvalue=0.281440686937816)"
            ]
          },
          "metadata": {},
          "execution_count": 10
        }
      ]
    },
    {
      "cell_type": "code",
      "source": [
        "stats.shapiro(y)"
      ],
      "metadata": {
        "colab": {
          "base_uri": "https://localhost:8080/"
        },
        "id": "0OXEJlweeK8y",
        "outputId": "13dfef61-6c7f-4576-a41c-831fb99b0b0c"
      },
      "execution_count": 11,
      "outputs": [
        {
          "output_type": "execute_result",
          "data": {
            "text/plain": [
              "ShapiroResult(statistic=0.8286640993349573, pvalue=0.04313951145476069)"
            ]
          },
          "metadata": {},
          "execution_count": 11
        }
      ]
    },
    {
      "cell_type": "markdown",
      "source": [
        "данные во 2ой выборке не нормальны (вообще строго проверка каждого из 2ух распределений на нормальность не равно нормальности совместного распределения, но мы это опустим). так как 2ое распределение не нормально, будем использовать критерий Манна-Уитни"
      ],
      "metadata": {
        "id": "z9dlsvmLsX5X"
      }
    },
    {
      "cell_type": "code",
      "source": [
        "m = len(x)\n",
        "n = len(y)\n",
        "xy = np.hstack([x, y])\n",
        "r = stats.rankdata(xy)\n",
        "print(xy)\n",
        "print(r)\n",
        "ww = r[:m]\n",
        "W = sum(ww)\n",
        "ew = m*(m + n + 1)/2\n",
        "varw = m*n*(m + n + 1)/12\n",
        "WT = (W - ew)/varw**0.5\n",
        "P = 1 - stats.norm.cdf(WT)\n",
        "print(\"Statistic: \",WT,\", p-value: \",P)"
      ],
      "metadata": {
        "colab": {
          "base_uri": "https://localhost:8080/"
        },
        "id": "nx4Y7-KMe2BO",
        "outputId": "84bb1d8b-e1fe-4e34-f230-df01bfb73ba5"
      },
      "execution_count": 12,
      "outputs": [
        {
          "output_type": "stream",
          "name": "stdout",
          "text": [
            "[132 111 119 138 200 131 138 170 159 140 115 190 127 155 148 121 116 121\n",
            " 197]\n",
            "[ 9.   1.   4.  10.5 19.   8.  10.5 16.  15.  12.   2.  17.   7.  14.\n",
            " 13.   5.5  3.   5.5 18. ]\n",
            "Statistic:  0.408248290463863 , p-value:  0.34154569915480437\n"
          ]
        }
      ]
    },
    {
      "cell_type": "markdown",
      "source": [
        "p-value = 0.3415 > 0.05. H0 не отвергается. Значит, мы не можем считать, что жители городов имеют в среднем более высокое систолическое артериальное давление, чем жители сельской местности (так как нулевая гипотеза у нас о равенстве средних)."
      ],
      "metadata": {
        "id": "HmmwlocIp6Zb"
      }
    },
    {
      "cell_type": "markdown",
      "source": [
        "**Задача 4**"
      ],
      "metadata": {
        "id": "tAQ8TCtNpkyI"
      }
    },
    {
      "cell_type": "markdown",
      "source": [
        "Известно, что 52% новорождённых детей — мальчики, а 48% — девочки. В случайной выборке из 5 000 человек в возрасте от 30 до 60 лет мужчин оказалось 2 500. Можно ли на уровне значимости 0,05 считать, основываясь на этих данных, что смертность среди мужчин и женщин одинакова?"
      ],
      "metadata": {
        "id": "Ct4j9wJSpnhy"
      }
    },
    {
      "cell_type": "markdown",
      "source": [
        "Гипотезы:\n",
        "\n",
        "H0: p1 = p2 (нет различий в смертности между мужчинами и женщинами, т.е. доли равны)\n",
        "\n",
        "H1: p1 ≠ p2 (различия в смертности есть)"
      ],
      "metadata": {
        "id": "daYLHpXOudKg"
      }
    },
    {
      "cell_type": "markdown",
      "source": [
        "применим Биномиальный критерий для проверки гипотезы о равенстве долей/вероятностей"
      ],
      "metadata": {
        "id": "mMDmMHtez7nW"
      }
    },
    {
      "cell_type": "code",
      "source": [
        "n1 = 2500\n",
        "m1 = 2500 * 0.52\n",
        "n2 = 2500\n",
        "m2 = 2500 * 0.48"
      ],
      "metadata": {
        "id": "KnLbuIjowNGb"
      },
      "execution_count": 13,
      "outputs": []
    },
    {
      "cell_type": "code",
      "source": [
        "T = (m1/n1 - m2/n2)/((m1+m2)/(n1+n2)*(1 - (m1+m2)/(n1+n2))*(1/n1 + 1/n2))**0.5\n",
        "P = (1 - stats.norm.cdf(T))*2\n",
        "print(\"Statistic: \",T,\", p-value: \",P)"
      ],
      "metadata": {
        "colab": {
          "base_uri": "https://localhost:8080/"
        },
        "id": "eCu6dNYlvV_b",
        "outputId": "83b7f01d-d54e-4497-e185-b08a258ac3a5"
      },
      "execution_count": 14,
      "outputs": [
        {
          "output_type": "stream",
          "name": "stdout",
          "text": [
            "Statistic:  2.8284271247461925 , p-value:  0.004677734981047177\n"
          ]
        }
      ]
    },
    {
      "cell_type": "markdown",
      "source": [
        "p-value = 0.0047 < 0.05. H0 отвергается. Мы не можем считать, что смертность среди мужчин и женщин одинакова."
      ],
      "metadata": {
        "id": "WSQVeoNo0HFb"
      }
    },
    {
      "cell_type": "markdown",
      "source": [
        "**Задача 5**"
      ],
      "metadata": {
        "id": "_WYyWeb_pnle"
      }
    },
    {
      "cell_type": "markdown",
      "source": [
        "В первом эксперименте для сравнения двух средних X1=17, X2=16 применялся t-критерий Стьюдента, и эти различия оказались значимы (p = 0, 001).\n",
        "\n",
        "Во втором исследовании, также при помощи t - критерия, сравнивались два средних X1=17, X2=36, и эти различия не значимы при p = 0,8. В чем может быть причина таких результатов, при условии, что нулевая и альтернативная гипотезы в обоих случаях одинаковы?"
      ],
      "metadata": {
        "id": "dm-HB9I0pnod"
      }
    },
    {
      "cell_type": "markdown",
      "source": [
        "Причина таких результатов может быть в следующем:\n",
        "\n",
        "\n",
        "1. Дисперсия в данных.\n",
        "\n",
        "Если во втором эксперименте данные имеют большую вариативность (дисперсию) по сравнению с первым исследованием, то это может привести к тому, что даже большая разница в средних (17 и 36) не будет статистически значимой, поскольку t-критерий чувствителен к вариативности внутри групп.\n",
        "\n",
        "\n",
        "\n",
        "2. Размер выборки.\n",
        "\n",
        "Если в первом эксперименте размер выборки был значительно меньше, а во втором — значительно больше, то это могло повлиять на результаты. При большем размере выборки статистическая мощность теста (способность обнаружить эффект, если он существует) будет выше. Поэтому если дисперсия была высокой во втором эксперименте, то даже значительная разница между средними (17 и 36) могла стать статистически незначимой."
      ],
      "metadata": {
        "id": "-7PT6Nzv8dBj"
      }
    }
  ]
}